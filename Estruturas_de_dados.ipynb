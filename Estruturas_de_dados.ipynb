{
  "nbformat": 4,
  "nbformat_minor": 0,
  "metadata": {
    "colab": {
      "provenance": [],
      "authorship_tag": "ABX9TyPY/VaFM4dDSl4++VD8PS8g",
      "include_colab_link": true
    },
    "kernelspec": {
      "name": "python3",
      "display_name": "Python 3"
    },
    "language_info": {
      "name": "python"
    }
  },
  "cells": [
    {
      "cell_type": "markdown",
      "metadata": {
        "id": "view-in-github",
        "colab_type": "text"
      },
      "source": [
        "<a href=\"https://colab.research.google.com/github/Jonata-Garcia/Estruturas_de_dados/blob/main/Estruturas_de_dados.ipynb\" target=\"_parent\"><img src=\"https://colab.research.google.com/assets/colab-badge.svg\" alt=\"Open In Colab\"/></a>"
      ]
    },
    {
      "cell_type": "markdown",
      "source": [],
      "metadata": {
        "id": "w3Y3UoBNFlYP"
      }
    },
    {
      "cell_type": "markdown",
      "source": [
        "1 Questão: Durante a rotina de programação, você vai se deparar com problemas que acontecem em alguns casos e em outros não. Esses são os erros mais difíceis de se rastrear.\n",
        "No script abaixo, ocorre um erro em todas as execuções que não vieram do google e os programadores não sabem o por que.\n",
        "Conserte o script, apenas adicionando dados, para que caso a origem não seja google, a variável brinde seja False."
      ],
      "metadata": {
        "id": "OksfotqkF2lm"
      }
    },
    {
      "cell_type": "code",
      "execution_count": 9,
      "metadata": {
        "id": "IxTBvj0p8tgD"
      },
      "outputs": [],
      "source": [
        "origem = \"facebook\"\n",
        "brinde = False\n",
        "if origem == \"google\":\n",
        "  brinde = True\n",
        "  print(brinde)\n",
        ""
      ]
    },
    {
      "cell_type": "markdown",
      "source": [
        "2 Questão: Adapte o script abaixo para que ele gere uma lista de 1\n",
        "a 10. Não crie a lista manualmente."
      ],
      "metadata": {
        "id": "g1wSgNR2GWrm"
      }
    },
    {
      "cell_type": "code",
      "source": [
        "my_range = range(1,11)\n",
        "print(list(my_range))"
      ],
      "metadata": {
        "colab": {
          "base_uri": "https://localhost:8080/"
        },
        "id": "pt2j0zWYA2l-",
        "outputId": "324a62d7-b731-4928-9bdf-bd27cca5f069"
      },
      "execution_count": 10,
      "outputs": [
        {
          "output_type": "stream",
          "name": "stdout",
          "text": [
            "[1, 2, 3, 4, 5, 6, 7, 8, 9, 10]\n"
          ]
        }
      ]
    },
    {
      "cell_type": "markdown",
      "source": [
        " 3 Questão: Nesse exercício, quero que você transforme cada elemento da lista Lista_de_numeros em uma string. Complete o script para que produza a saída esperada. Utiliza a váriavel lista_de_numeros como parte do seu programa."
      ],
      "metadata": {
        "id": "ME-KuPoyGZTF"
      }
    },
    {
      "cell_type": "code",
      "source": [
        "lista_de_numeros = range (1,21)\n",
        "lista_de_numeros = [str(numero) for numero in lista_de_numeros]\n",
        "print(lista_de_numeros)\n"
      ],
      "metadata": {
        "colab": {
          "base_uri": "https://localhost:8080/"
        },
        "id": "4bCh_oqcBDMV",
        "outputId": "31f0b8bb-a363-489e-f678-becf6934d3ef"
      },
      "execution_count": 11,
      "outputs": [
        {
          "output_type": "stream",
          "name": "stdout",
          "text": [
            "['1', '2', '3', '4', '5', '6', '7', '8', '9', '10', '11', '12', '13', '14', '15', '16', '17', '18', '19', '20']\n"
          ]
        }
      ]
    },
    {
      "cell_type": "markdown",
      "source": [
        "4 Questão: Nesse exercício, quero que você multiplique o número\n",
        "10. Complete o script para que produza a saída esperada. Utiliza a variavel lista_de_numeros como parte do seu programa."
      ],
      "metadata": {
        "id": "YPJ6I2InGjNt"
      }
    },
    {
      "cell_type": "code",
      "source": [
        "lista_de_numeros = range(1, 21)\n",
        "lista_de_numeros = [numero * 10 for numero in lista_de_numeros]\n",
        "print(lista_de_numeros)"
      ],
      "metadata": {
        "colab": {
          "base_uri": "https://localhost:8080/"
        },
        "id": "DLt0SKFKBkmy",
        "outputId": "add58ab4-050d-4f4d-bb3b-f83dd718c69e"
      },
      "execution_count": 13,
      "outputs": [
        {
          "output_type": "stream",
          "name": "stdout",
          "text": [
            "[10, 20, 30, 40, 50, 60, 70, 80, 90, 100, 110, 120, 130, 140, 150, 160, 170, 180, 190, 200]\n"
          ]
        }
      ]
    },
    {
      "cell_type": "markdown",
      "source": [
        "5 Questão: Nesse exercício, queremos que a lista a não tenha elementos duplicados. Complete o script para que o resultado seja a saída esperada."
      ],
      "metadata": {
        "id": "3wsMzLAvGyE-"
      }
    },
    {
      "cell_type": "code",
      "source": [
        "a = [1,2,2,3,1,\"1\",2,3]\n",
        "a = set(a)\n",
        "print(a)"
      ],
      "metadata": {
        "colab": {
          "base_uri": "https://localhost:8080/"
        },
        "id": "tn5Aj4d3CY7e",
        "outputId": "7177c041-0633-4502-e541-5ab8ac718687"
      },
      "execution_count": 14,
      "outputs": [
        {
          "output_type": "stream",
          "name": "stdout",
          "text": [
            "{1, 2, 3, '1'}\n"
          ]
        }
      ]
    },
    {
      "cell_type": "markdown",
      "source": [
        "6 Questão: Monte um dicionário simples com as chaves Nome e Idade e os valores respectivamente Felipe e 26."
      ],
      "metadata": {
        "id": "vcNiE3NRG-Bl"
      }
    },
    {
      "cell_type": "code",
      "source": [
        "dict_pessoa = {\"Nome\": \"Felipe\", \"Idade\": 26}\n",
        "print(dict_pessoa)"
      ],
      "metadata": {
        "colab": {
          "base_uri": "https://localhost:8080/"
        },
        "id": "2V_TSXfTCX8D",
        "outputId": "f56aae5c-068d-4383-bf8d-16d777a1ec42"
      },
      "execution_count": 15,
      "outputs": [
        {
          "output_type": "stream",
          "name": "stdout",
          "text": [
            "{'Nome': 'Felipe', 'Idade': 26}\n"
          ]
        }
      ]
    },
    {
      "cell_type": "markdown",
      "source": [
        "7 Questão: Complete o script para que o resultado retorne o valor da chave Idade."
      ],
      "metadata": {
        "id": "FEmbvKDWHJ-F"
      }
    },
    {
      "cell_type": "code",
      "source": [
        "dict_pessoa = {\"Nome\": \"Felipe\", \"Idade\": 26}\n",
        "print(dict_pessoa['Idade'])"
      ],
      "metadata": {
        "colab": {
          "base_uri": "https://localhost:8080/"
        },
        "id": "F54bcRjBC6dr",
        "outputId": "8def314c-edab-4d2f-9161-ab32f69c877d"
      },
      "execution_count": 16,
      "outputs": [
        {
          "output_type": "stream",
          "name": "stdout",
          "text": [
            "26\n"
          ]
        }
      ]
    },
    {
      "cell_type": "markdown",
      "source": [
        "8 Questão: Calcule a soma dos valores das chaves a e b."
      ],
      "metadata": {
        "id": "yAfaGwMPHU2W"
      }
    },
    {
      "cell_type": "code",
      "source": [
        "d = {\"a\": 10, \"b\": 10}\n",
        "print(d['a'] + d['b'])"
      ],
      "metadata": {
        "colab": {
          "base_uri": "https://localhost:8080/"
        },
        "id": "0J_qX7UGDNqz",
        "outputId": "013dc611-95c4-43ad-f197-4f7e4240ca27"
      },
      "execution_count": 18,
      "outputs": [
        {
          "output_type": "stream",
          "name": "stdout",
          "text": [
            "20\n"
          ]
        }
      ]
    },
    {
      "cell_type": "markdown",
      "source": [
        "9 Questão: O Script abaixo apresenta um erro de KeyError.\n",
        "Conserte o script para que ele retorne 'Silva'"
      ],
      "metadata": {
        "id": "X2PjSuhZHmPn"
      }
    },
    {
      "cell_type": "code",
      "source": [
        "d = {\"Nome\": \"Diego\", \"Sobrenome\": \"Silva\", \"Idade\": 29}\n",
        "print(d[\"Sobrenome\"])"
      ],
      "metadata": {
        "colab": {
          "base_uri": "https://localhost:8080/"
        },
        "id": "yP-yhv7HDia6",
        "outputId": "f13419ac-d4ac-43c8-b4a9-2e03aa17d552"
      },
      "execution_count": 24,
      "outputs": [
        {
          "output_type": "stream",
          "name": "stdout",
          "text": [
            "Silva\n"
          ]
        }
      ]
    },
    {
      "cell_type": "markdown",
      "source": [
        "10 Questão: Complete o script para somar todos os valores do dicionário."
      ],
      "metadata": {
        "id": "7rEEktC7H2gm"
      }
    },
    {
      "cell_type": "code",
      "source": [
        "d = {\"a\":1, \"b\": 2, \"c\": 3}\n",
        "print(sum(d.values()))"
      ],
      "metadata": {
        "id": "x5kqdPxwEUK5"
      },
      "execution_count": null,
      "outputs": []
    }
  ]
}